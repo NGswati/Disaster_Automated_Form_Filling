{
  "cells": [
    {
      "cell_type": "code",
      "execution_count": null,
      "metadata": {
        "colab": {
          "base_uri": "https://localhost:8080/"
        },
        "id": "DMNljC9J9U_5",
        "outputId": "2cdd54c3-7fe6-4dde-de0d-55d44d6fd59a"
      },
      "outputs": [],
      "source": [
        "from google.colab import drive\n",
        "drive.mount('/content/drive')"
      ]
    },
    {
      "cell_type": "code",
      "execution_count": null,
      "metadata": {
        "id": "PcHiMAHH9uv1"
      },
      "outputs": [],
      "source": [
        "import pandas as pd\n",
        "import numpy as np\n",
        "from sklearn.feature_extraction.text import TfidfVectorizer\n",
        "from sklearn.preprocessing import LabelEncoder\n",
        "from sklearn.model_selection import train_test_split\n",
        "from sklearn.metrics import accuracy_score, classification_report, confusion_matrix, precision_score, recall_score, f1_score\n",
        "from keras.preprocessing.text import Tokenizer\n",
        "from keras.preprocessing.sequence import pad_sequences\n",
        "import tensorflow as tf\n",
        "from keras.models import Sequential\n",
        "from keras.layers import Dense, Embedding, Flatten, LSTM, Bidirectional,  SpatialDropout1D\n",
        "import seaborn as sns\n",
        "import matplotlib.pyplot as plt"
      ]
    },
    {
      "cell_type": "code",
      "execution_count": null,
      "metadata": {
        "id": "VBnM4aZL-jpq"
      },
      "outputs": [],
      "source": [
        "csv_file_path = ''  # Replace with the path to your CSV file\n",
        "df = pd.read_csv(csv_file_path)"
      ]
    },
    {
      "cell_type": "code",
      "execution_count": null,
      "metadata": {
        "id": "dq4q2_kHcjcF"
      },
      "outputs": [],
      "source": [
        "df = df.rename(columns={'text':'tweets'})"
      ]
    },
    {
      "cell_type": "code",
      "execution_count": null,
      "metadata": {
        "id": "4iKeZCou-qOe"
      },
      "outputs": [],
      "source": [
        "X=[]\n",
        "y=[]\n",
        "for tweet,category in zip(df['tweets'],df['category']):\n",
        "      X.append(tweet)\n",
        "      y.append(category)"
      ]
    },
    {
      "cell_type": "code",
      "execution_count": null,
      "metadata": {
        "id": "RjM0Eb8I_COx"
      },
      "outputs": [],
      "source": [
        "tweets=X"
      ]
    },
    {
      "cell_type": "markdown",
      "metadata": {
        "id": "TLVs_CMY-zYT"
      },
      "source": [
        "Vectorization"
      ]
    },
    {
      "cell_type": "code",
      "execution_count": null,
      "metadata": {
        "id": "J5zimGbF-1ha"
      },
      "outputs": [],
      "source": [
        "tokenizer = Tokenizer()\n",
        "tokenizer.fit_on_texts(X)\n",
        "sequences = tokenizer.texts_to_sequences(X)"
      ]
    },
    {
      "cell_type": "code",
      "execution_count": null,
      "metadata": {
        "id": "fAh9aqXsBId7"
      },
      "outputs": [],
      "source": [
        "import pickle\n",
        "\n",
        "# Define the path where you want to save the tokenizer\n",
        "tokenizer_path = ''\n",
        "\n",
        "# Open a file in binary write mode\n",
        "with open(tokenizer_path, 'wb') as f:\n",
        "    pickle.dump(tokenizer, f)"
      ]
    },
    {
      "cell_type": "code",
      "execution_count": null,
      "metadata": {
        "id": "oKuSDHDdRDF1"
      },
      "outputs": [],
      "source": [
        "X_padded = pad_sequences(sequences,maxlen=max_len,padding='post')"
      ]
    },
    {
      "cell_type": "code",
      "execution_count": null,
      "metadata": {
        "id": "ilWjlTVkEjw-"
      },
      "outputs": [],
      "source": [
        "num_classes = len(set(df['category']))"
      ]
    },
    {
      "cell_type": "code",
      "execution_count": null,
      "metadata": {
        "id": "RuFbNg0MFBmZ"
      },
      "outputs": [],
      "source": [
        "label_encoder = LabelEncoder()\n",
        "y = label_encoder.fit_transform(y)"
      ]
    },
    {
      "cell_type": "code",
      "execution_count": null,
      "metadata": {
        "id": "z99zJ9bfEp6o"
      },
      "outputs": [],
      "source": [
        "X_train, X_test, y_train, y_test = train_test_split(X_padded, y, test_size=0.2, random_state=42)"
      ]
    },
    {
      "cell_type": "markdown",
      "metadata": {
        "id": "z_fCuoOp_L1p"
      },
      "source": [
        "Label Encoding"
      ]
    },
    {
      "cell_type": "markdown",
      "metadata": {
        "id": "fi-qVUqJJS2e"
      },
      "source": [
        "BiLSTM Model"
      ]
    },
    {
      "cell_type": "code",
      "execution_count": null,
      "metadata": {
        "id": "yvVeUTHt_Teb"
      },
      "outputs": [],
      "source": [
        "model = Sequential()\n",
        "model.add(Embedding(len(tokenizer.word_index)+1, 128, input_length=max_len))\n",
        "model.add(SpatialDropout1D(0.2))  # Dropout layer to prevent overfitting\n",
        "model.add(Bidirectional(LSTM(128, return_sequences=True)))\n",
        "model.add(Bidirectional(LSTM(64)))\n",
        "model.add(Dense(64, activation='relu'))\n",
        "model.add(Dense(num_classes, activation='softmax'))"
      ]
    },
    {
      "cell_type": "markdown",
      "metadata": {
        "id": "BQgvsN4hJVyE"
      },
      "source": [
        "Train Model"
      ]
    },
    {
      "cell_type": "code",
      "execution_count": null,
      "metadata": {
        "colab": {
          "base_uri": "https://localhost:8080/"
        },
        "id": "SyoNH4E2_WBl",
        "outputId": "0409ff8c-3c35-41a6-ac9d-2fada72e208f"
      },
      "outputs": [],
      "source": [
        "# Compile the model\n",
        "model.compile(optimizer='adam', loss='sparse_categorical_crossentropy', metrics=['accuracy'])\n",
        "# Train the model\n",
        "model.fit(X_train, y_train, epochs=10, batch_size=32, verbose=1)\n",
        "# Evaluate the model\n",
        "loss, accuracy = model.evaluate(X_test, y_test)\n",
        "print(\"Accuracy:\", accuracy)"
      ]
    },
    {
      "cell_type": "code",
      "execution_count": null,
      "metadata": {
        "colab": {
          "base_uri": "https://localhost:8080/"
        },
        "id": "PB4n1m4LAP_q",
        "outputId": "adb301af-fe9a-47b6-d8c6-fa44c55c81de"
      },
      "outputs": [],
      "source": [
        "y_pred = model.predict(X_test)\n",
        "y_pred = np.argmax(y_pred, axis=1)\n",
        "print(\"Accuracy:\", accuracy_score(y_test, y_pred))\n",
        "print(\"Recall:\", recall_score(y_test, y_pred,average='macro'))\n",
        "print(\"Precision:\", precision_score(y_test, y_pred,average='macro'))\n",
        "print(\"F1:\", f1_score(y_test, y_pred,average='macro'))"
      ]
    },
    {
      "cell_type": "code",
      "execution_count": null,
      "metadata": {
        "colab": {
          "base_uri": "https://localhost:8080/",
          "height": 966
        },
        "id": "7Eoc_0M2AZRN",
        "outputId": "427ea9e5-41fd-4f68-e7c7-72c6d9b5680b"
      },
      "outputs": [],
      "source": [
        "import seaborn as sns\n",
        "import matplotlib.pyplot as plt\n",
        "\n",
        "cf=confusion_matrix(y_test,y_pred)\n",
        "plt.figure(figsize=(12, 12))  # Adjust the figure size accordingly\n",
        "sns.set(font_scale=0.5)  # Adjust font scale for labels\n",
        "sns.heatmap(cf, annot=True, fmt='d', cmap='Blues', cbar_kws={'label': 'Scale'}, square=True)\n",
        "plt.xlabel('Predicted Label')\n",
        "plt.ylabel('True Label')\n",
        "plt.title('Confusion Matrix Heatmap BiLSTM')\n",
        "plt.show()"
      ]
    },
    {
      "cell_type": "code",
      "execution_count": null,
      "metadata": {
        "colab": {
          "base_uri": "https://localhost:8080/"
        },
        "id": "HLe6S-q-yGR9",
        "outputId": "ef120cd8-f77e-4b14-8ecc-4f9cf78ecde0"
      },
      "outputs": [],
      "source": [
        "model.save('') "
      ]
    }
  ],
  "metadata": {
    "colab": {
      "provenance": []
    },
    "kernelspec": {
      "display_name": "Python 3",
      "name": "python3"
    },
    "language_info": {
      "name": "python"
    }
  },
  "nbformat": 4,
  "nbformat_minor": 0
}
